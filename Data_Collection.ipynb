{
 "cells": [
  {
   "cell_type": "markdown",
   "id": "d22277c6",
   "metadata": {},
   "source": [
    "##### Bankrate Dataset"
   ]
  },
  {
   "cell_type": "code",
   "execution_count": 1,
   "id": "7f505af0",
   "metadata": {},
   "outputs": [],
   "source": [
    "# pip install DrissionPage"
   ]
  },
  {
   "cell_type": "code",
   "execution_count": 4,
   "id": "490b3157",
   "metadata": {},
   "outputs": [],
   "source": [
    "# bankrate\n",
    "import pandas as pd\n",
    "from DrissionPage import ChromiumPage, ChromiumOptions\n",
    "\n",
    "def download_dataset1(out_file1: str, sample_p: bool = True):\n",
    "    # Initialize browser options \n",
    "    co = ChromiumOptions()\n",
    "    co.set_headless()\n",
    "    # Create a browser session\n",
    "    page = ChromiumPage(co)\n",
    "    \n",
    "    # Set a timeout for browser responses\n",
    "    page.timeout = 2\n",
    "    \n",
    "    # URL where the data can be found\n",
    "    page.get(\"https://www.bankrate.com/banking/cds/cd-rates/\")\n",
    "    \n",
    "    # Headers for the DataFrame \n",
    "    headers = ['BankName', 'CDTerm', 'APY', 'Min.deposit']\n",
    "    data_list = []\n",
    "    \n",
    "    # Find all div elements that contain rate data\n",
    "    divs = page.eles(\"css:div.wrt-RateCard\")\n",
    "    while True:\n",
    "        # Attempt to load more data\n",
    "        try:\n",
    "            page.run_js('document.querySelector(\"button.wrt-ShowMore-button\").click()')\n",
    "        except:\n",
    "            break\n",
    "            \n",
    "        # Re-fetch the div elements after loading new data\n",
    "        new_divs = page.eles(\"css:div.wrt-RateCard\")\n",
    "        \n",
    "        # Check if new data was loaded\n",
    "        if len(divs) == len(new_divs):\n",
    "            break\n",
    "            \n",
    "        # If only a sample is needed \n",
    "        if sample_p and len(divs) >= 5:\n",
    "            divs = divs[:5]\n",
    "            break\n",
    "    \n",
    "        divs = new_divs\n",
    "        \n",
    "    # Reset the page timeout to the default\n",
    "    page.timeout = 0\n",
    "    \n",
    "    # extract data\n",
    "    for div in divs:\n",
    "        try:\n",
    "            BankName = div.ele(\"css:p.wrt-RateCard-advertiserLabel\").text\n",
    "        except:\n",
    "            BankName = div.ele(\"css:div.wrt-AdvertiserLogo-text\").text\n",
    "            \n",
    "        # Extract other elements from data \n",
    "        CDTerm = div.ele(\"css:div.wrt-RateCard-body > dl > div:nth-child(3) > dd\").text.replace(\"\\n\", \"\")\n",
    "        APY = div.ele(\"css:div.wrt-Stat.wrt-Stat--withTooltip > dd > div.wrt-Stat-amount\").text + \"%\"\n",
    "        Min_deposit = div.ele(\"css:div.wrt-RateCard-body > dl > div:nth-child(2) > dd\").text.replace(\"\\n\", \"\")\n",
    "        info = [BankName, CDTerm, APY, Min_deposit]\n",
    "        data_list.append(info)\n",
    "    \n",
    "    df = pd.DataFrame(data_list, columns=headers)\n",
    "    # Determining the filename based on sample_p\n",
    "    if sample_p:\n",
    "        filename = f\"{out_file1}_samples.csv\"\n",
    "    else:\n",
    "        filename = out_file1 + '.csv'\n",
    "    \n",
    "    df.to_csv(filename, index=False, mode=\"w\", encoding=\"utf_8_sig\")\n",
    "    print(df.head())"
   ]
  },
  {
   "cell_type": "code",
   "execution_count": 5,
   "id": "ae3337de",
   "metadata": {},
   "outputs": [
    {
     "name": "stdout",
     "output_type": "stream",
     "text": [
      "                                            BankName CDTerm    APY Min.deposit\n",
      "0  Third Federal Savings & Loan Association of Cl...    1mo  5.40%        $500\n",
      "1                                   CBIC Bank USA CD    1yr  5.36%          $0\n",
      "2                                   CBIC Bank USA CD   13mo  5.36%      $1,000\n",
      "3                                        Rising Bank    6mo  5.35%      $1,000\n",
      "4                                        CFG Bank CD    1yr  5.31%        $500\n"
     ]
    }
   ],
   "source": [
    "# sample_dataset \n",
    "download_dataset1(\"bankrate\", sample_p=True)"
   ]
  },
  {
   "cell_type": "code",
   "execution_count": 3,
   "id": "8f97c937",
   "metadata": {},
   "outputs": [
    {
     "name": "stdout",
     "output_type": "stream",
     "text": [
      "                                            BankName CDTerm    APY Min.deposit\n",
      "0  Third Federal Savings & Loan Association of Cl...    1mo  5.40%        $500\n",
      "1                                   CBIC Bank USA CD    1yr  5.36%          $0\n",
      "2                                   CBIC Bank USA CD   13mo  5.36%      $1,000\n",
      "3                                        Rising Bank    6mo  5.35%      $1,000\n",
      "4                                        CFG Bank CD    1yr  5.31%        $500\n"
     ]
    }
   ],
   "source": [
    "# full dataset\n",
    "download_dataset1(\"bankrate\", sample_p=False)"
   ]
  },
  {
   "cell_type": "markdown",
   "id": "c335fb1d",
   "metadata": {},
   "source": [
    "##### Treasury Bills Rates dataset"
   ]
  },
  {
   "cell_type": "code",
   "execution_count": 6,
   "id": "72c33181",
   "metadata": {},
   "outputs": [],
   "source": [
    "# Treasury Bills Rates\n",
    "import requests\n",
    "import pandas as pd\n",
    "\n",
    "def download_dataset2(out_file2: str, sample_p: bool = True):\n",
    "    # Base URL and endpoint for accessing the Treasury Bills data \n",
    "    base_url = \"https://api.fiscaldata.treasury.gov\"\n",
    "    endpoint = \"/services/api/fiscal_service/v1/accounting/od/auctions_query\"\n",
    "    # fields to be retrieved from the API\n",
    "    fields = \"fields=record_date,cusip,security_type,security_term,auction_date,issue_date,maturity_date,price_per100\"\n",
    "    # URL for the API request\n",
    "    url = f\"{base_url}{endpoint}?{fields}&page[size]=100\"\n",
    "    \n",
    "    # Maximum number of pages to fetch (avoid infinite loops)\n",
    "    max_pagenum = 100  \n",
    "    res = requests.get(url)\n",
    "    # Headers for the DataFrame \n",
    "    headers = ['cusip', 'security_type', 'security_term', 'auction_date', 'issue_date', 'maturity_date', 'price_per100']\n",
    "    data_list = []\n",
    "    \n",
    "    # Counter to track the number of pages processed\n",
    "    page_count = 0\n",
    "    # processing data as long as the API call is successful and the max page number isn't reached\n",
    "    while res.status_code == 200 and page_count < max_pagenum:\n",
    "        data_json = res.json()\n",
    "         # Extracts the 'data' list from the response\n",
    "        all_datas = data_json[\"data\"]\n",
    "        for data in all_datas:\n",
    "            # Collects information for each record\n",
    "            info = [data[\"cusip\"], data[\"security_type\"], data[\"security_term\"], data[\"auction_date\"], data[\"issue_date\"], data[\"maturity_date\"], data[\"price_per100\"]]\n",
    "            data_list.append(info)\n",
    "            # If sample is needed\n",
    "            if sample_p and len(data_list) >= 5: \n",
    "                break\n",
    "        if sample_p and len(data_list) >= 5:\n",
    "            break\n",
    "        # get the next page URL from the API response\n",
    "        next_link = data_json[\"links\"].get(\"next\")\n",
    "        if next_link:\n",
    "            if not next_link.startswith(\"http\"):\n",
    "                # concatenation of the next URL\n",
    "                next_link = f\"{base_url}{endpoint}?{next_link}\"\n",
    "#             print(\"Requesting:\", next_link)  \n",
    "            res = requests.get(next_link)\n",
    "            page_count += 1\n",
    "        else:\n",
    "            break\n",
    "\n",
    "    df = pd.DataFrame(data_list, columns=headers)\n",
    "    # Determining the filename based on sample_p\n",
    "    if sample_p:\n",
    "        filename = f\"{out_file2}_samples.csv\"\n",
    "    else:\n",
    "        filename = f\"{out_file2}.csv\"\n",
    "    \n",
    "    df.to_csv(filename, index=False, mode=\"w\", encoding=\"utf_8_sig\")\n",
    "    print(df.head())"
   ]
  },
  {
   "cell_type": "code",
   "execution_count": 7,
   "id": "5c502a45",
   "metadata": {},
   "outputs": [
    {
     "name": "stdout",
     "output_type": "stream",
     "text": [
      "       cusip security_type security_term auction_date  issue_date  \\\n",
      "0  912827KC5          Note       10-Year   1979-10-31  1979-11-15   \n",
      "1  912810CK2          Bond       30-Year   1979-11-01  1979-11-15   \n",
      "2  9127933Y0          Bill       13-Week   1979-12-28  1980-01-03   \n",
      "3  9127934U7          Bill       26-Week   1979-12-28  1980-01-03   \n",
      "4  9127935W2          Bill       52-Week   1980-01-02  1980-01-08   \n",
      "\n",
      "  maturity_date price_per100  \n",
      "0    1989-11-15         null  \n",
      "1    2009-11-15         null  \n",
      "2    1980-04-03         null  \n",
      "3    1980-07-03         null  \n",
      "4    1981-01-02         null  \n"
     ]
    }
   ],
   "source": [
    "# sample_dataset \n",
    "download_dataset2(\"Treasury Bills Rates\", sample_p=True)"
   ]
  },
  {
   "cell_type": "markdown",
   "id": "db637ac5",
   "metadata": {},
   "source": [
    "**price_per100** has some null value, in the future analysis in final project, either data imputation tech will be applied to filled the null or those null value will be simply dropped. For now, I will just leave it as it is. "
   ]
  },
  {
   "cell_type": "code",
   "execution_count": 3,
   "id": "0e21f9bf",
   "metadata": {},
   "outputs": [
    {
     "name": "stdout",
     "output_type": "stream",
     "text": [
      "Requesting: https://api.fiscaldata.treasury.gov/services/api/fiscal_service/v1/accounting/od/auctions_query?&page%5Bnumber%5D=2&page%5Bsize%5D=100\n",
      "Requesting: https://api.fiscaldata.treasury.gov/services/api/fiscal_service/v1/accounting/od/auctions_query?&page%5Bnumber%5D=3&page%5Bsize%5D=100\n",
      "Requesting: https://api.fiscaldata.treasury.gov/services/api/fiscal_service/v1/accounting/od/auctions_query?&page%5Bnumber%5D=4&page%5Bsize%5D=100\n",
      "Requesting: https://api.fiscaldata.treasury.gov/services/api/fiscal_service/v1/accounting/od/auctions_query?&page%5Bnumber%5D=5&page%5Bsize%5D=100\n",
      "Requesting: https://api.fiscaldata.treasury.gov/services/api/fiscal_service/v1/accounting/od/auctions_query?&page%5Bnumber%5D=6&page%5Bsize%5D=100\n",
      "Requesting: https://api.fiscaldata.treasury.gov/services/api/fiscal_service/v1/accounting/od/auctions_query?&page%5Bnumber%5D=7&page%5Bsize%5D=100\n",
      "Requesting: https://api.fiscaldata.treasury.gov/services/api/fiscal_service/v1/accounting/od/auctions_query?&page%5Bnumber%5D=8&page%5Bsize%5D=100\n",
      "Requesting: https://api.fiscaldata.treasury.gov/services/api/fiscal_service/v1/accounting/od/auctions_query?&page%5Bnumber%5D=9&page%5Bsize%5D=100\n",
      "Requesting: https://api.fiscaldata.treasury.gov/services/api/fiscal_service/v1/accounting/od/auctions_query?&page%5Bnumber%5D=10&page%5Bsize%5D=100\n",
      "Requesting: https://api.fiscaldata.treasury.gov/services/api/fiscal_service/v1/accounting/od/auctions_query?&page%5Bnumber%5D=11&page%5Bsize%5D=100\n",
      "Requesting: https://api.fiscaldata.treasury.gov/services/api/fiscal_service/v1/accounting/od/auctions_query?&page%5Bnumber%5D=12&page%5Bsize%5D=100\n",
      "Requesting: https://api.fiscaldata.treasury.gov/services/api/fiscal_service/v1/accounting/od/auctions_query?&page%5Bnumber%5D=13&page%5Bsize%5D=100\n",
      "Requesting: https://api.fiscaldata.treasury.gov/services/api/fiscal_service/v1/accounting/od/auctions_query?&page%5Bnumber%5D=14&page%5Bsize%5D=100\n",
      "Requesting: https://api.fiscaldata.treasury.gov/services/api/fiscal_service/v1/accounting/od/auctions_query?&page%5Bnumber%5D=15&page%5Bsize%5D=100\n",
      "Requesting: https://api.fiscaldata.treasury.gov/services/api/fiscal_service/v1/accounting/od/auctions_query?&page%5Bnumber%5D=16&page%5Bsize%5D=100\n",
      "Requesting: https://api.fiscaldata.treasury.gov/services/api/fiscal_service/v1/accounting/od/auctions_query?&page%5Bnumber%5D=17&page%5Bsize%5D=100\n",
      "Requesting: https://api.fiscaldata.treasury.gov/services/api/fiscal_service/v1/accounting/od/auctions_query?&page%5Bnumber%5D=18&page%5Bsize%5D=100\n",
      "Requesting: https://api.fiscaldata.treasury.gov/services/api/fiscal_service/v1/accounting/od/auctions_query?&page%5Bnumber%5D=19&page%5Bsize%5D=100\n",
      "Requesting: https://api.fiscaldata.treasury.gov/services/api/fiscal_service/v1/accounting/od/auctions_query?&page%5Bnumber%5D=20&page%5Bsize%5D=100\n",
      "Requesting: https://api.fiscaldata.treasury.gov/services/api/fiscal_service/v1/accounting/od/auctions_query?&page%5Bnumber%5D=21&page%5Bsize%5D=100\n",
      "Requesting: https://api.fiscaldata.treasury.gov/services/api/fiscal_service/v1/accounting/od/auctions_query?&page%5Bnumber%5D=22&page%5Bsize%5D=100\n",
      "Requesting: https://api.fiscaldata.treasury.gov/services/api/fiscal_service/v1/accounting/od/auctions_query?&page%5Bnumber%5D=23&page%5Bsize%5D=100\n",
      "Requesting: https://api.fiscaldata.treasury.gov/services/api/fiscal_service/v1/accounting/od/auctions_query?&page%5Bnumber%5D=24&page%5Bsize%5D=100\n",
      "Requesting: https://api.fiscaldata.treasury.gov/services/api/fiscal_service/v1/accounting/od/auctions_query?&page%5Bnumber%5D=25&page%5Bsize%5D=100\n",
      "Requesting: https://api.fiscaldata.treasury.gov/services/api/fiscal_service/v1/accounting/od/auctions_query?&page%5Bnumber%5D=26&page%5Bsize%5D=100\n",
      "Requesting: https://api.fiscaldata.treasury.gov/services/api/fiscal_service/v1/accounting/od/auctions_query?&page%5Bnumber%5D=27&page%5Bsize%5D=100\n",
      "Requesting: https://api.fiscaldata.treasury.gov/services/api/fiscal_service/v1/accounting/od/auctions_query?&page%5Bnumber%5D=28&page%5Bsize%5D=100\n",
      "Requesting: https://api.fiscaldata.treasury.gov/services/api/fiscal_service/v1/accounting/od/auctions_query?&page%5Bnumber%5D=29&page%5Bsize%5D=100\n",
      "Requesting: https://api.fiscaldata.treasury.gov/services/api/fiscal_service/v1/accounting/od/auctions_query?&page%5Bnumber%5D=30&page%5Bsize%5D=100\n",
      "Requesting: https://api.fiscaldata.treasury.gov/services/api/fiscal_service/v1/accounting/od/auctions_query?&page%5Bnumber%5D=31&page%5Bsize%5D=100\n",
      "Requesting: https://api.fiscaldata.treasury.gov/services/api/fiscal_service/v1/accounting/od/auctions_query?&page%5Bnumber%5D=32&page%5Bsize%5D=100\n",
      "Requesting: https://api.fiscaldata.treasury.gov/services/api/fiscal_service/v1/accounting/od/auctions_query?&page%5Bnumber%5D=33&page%5Bsize%5D=100\n",
      "Requesting: https://api.fiscaldata.treasury.gov/services/api/fiscal_service/v1/accounting/od/auctions_query?&page%5Bnumber%5D=34&page%5Bsize%5D=100\n",
      "Requesting: https://api.fiscaldata.treasury.gov/services/api/fiscal_service/v1/accounting/od/auctions_query?&page%5Bnumber%5D=35&page%5Bsize%5D=100\n",
      "Requesting: https://api.fiscaldata.treasury.gov/services/api/fiscal_service/v1/accounting/od/auctions_query?&page%5Bnumber%5D=36&page%5Bsize%5D=100\n",
      "Requesting: https://api.fiscaldata.treasury.gov/services/api/fiscal_service/v1/accounting/od/auctions_query?&page%5Bnumber%5D=37&page%5Bsize%5D=100\n",
      "Requesting: https://api.fiscaldata.treasury.gov/services/api/fiscal_service/v1/accounting/od/auctions_query?&page%5Bnumber%5D=38&page%5Bsize%5D=100\n",
      "Requesting: https://api.fiscaldata.treasury.gov/services/api/fiscal_service/v1/accounting/od/auctions_query?&page%5Bnumber%5D=39&page%5Bsize%5D=100\n",
      "Requesting: https://api.fiscaldata.treasury.gov/services/api/fiscal_service/v1/accounting/od/auctions_query?&page%5Bnumber%5D=40&page%5Bsize%5D=100\n",
      "Requesting: https://api.fiscaldata.treasury.gov/services/api/fiscal_service/v1/accounting/od/auctions_query?&page%5Bnumber%5D=41&page%5Bsize%5D=100\n",
      "Requesting: https://api.fiscaldata.treasury.gov/services/api/fiscal_service/v1/accounting/od/auctions_query?&page%5Bnumber%5D=42&page%5Bsize%5D=100\n",
      "Requesting: https://api.fiscaldata.treasury.gov/services/api/fiscal_service/v1/accounting/od/auctions_query?&page%5Bnumber%5D=43&page%5Bsize%5D=100\n",
      "Requesting: https://api.fiscaldata.treasury.gov/services/api/fiscal_service/v1/accounting/od/auctions_query?&page%5Bnumber%5D=44&page%5Bsize%5D=100\n",
      "Requesting: https://api.fiscaldata.treasury.gov/services/api/fiscal_service/v1/accounting/od/auctions_query?&page%5Bnumber%5D=45&page%5Bsize%5D=100\n",
      "Requesting: https://api.fiscaldata.treasury.gov/services/api/fiscal_service/v1/accounting/od/auctions_query?&page%5Bnumber%5D=46&page%5Bsize%5D=100\n",
      "Requesting: https://api.fiscaldata.treasury.gov/services/api/fiscal_service/v1/accounting/od/auctions_query?&page%5Bnumber%5D=47&page%5Bsize%5D=100\n",
      "Requesting: https://api.fiscaldata.treasury.gov/services/api/fiscal_service/v1/accounting/od/auctions_query?&page%5Bnumber%5D=48&page%5Bsize%5D=100\n",
      "Requesting: https://api.fiscaldata.treasury.gov/services/api/fiscal_service/v1/accounting/od/auctions_query?&page%5Bnumber%5D=49&page%5Bsize%5D=100\n",
      "Requesting: https://api.fiscaldata.treasury.gov/services/api/fiscal_service/v1/accounting/od/auctions_query?&page%5Bnumber%5D=50&page%5Bsize%5D=100\n",
      "Requesting: https://api.fiscaldata.treasury.gov/services/api/fiscal_service/v1/accounting/od/auctions_query?&page%5Bnumber%5D=51&page%5Bsize%5D=100\n",
      "Requesting: https://api.fiscaldata.treasury.gov/services/api/fiscal_service/v1/accounting/od/auctions_query?&page%5Bnumber%5D=52&page%5Bsize%5D=100\n",
      "Requesting: https://api.fiscaldata.treasury.gov/services/api/fiscal_service/v1/accounting/od/auctions_query?&page%5Bnumber%5D=53&page%5Bsize%5D=100\n",
      "Requesting: https://api.fiscaldata.treasury.gov/services/api/fiscal_service/v1/accounting/od/auctions_query?&page%5Bnumber%5D=54&page%5Bsize%5D=100\n",
      "Requesting: https://api.fiscaldata.treasury.gov/services/api/fiscal_service/v1/accounting/od/auctions_query?&page%5Bnumber%5D=55&page%5Bsize%5D=100\n",
      "Requesting: https://api.fiscaldata.treasury.gov/services/api/fiscal_service/v1/accounting/od/auctions_query?&page%5Bnumber%5D=56&page%5Bsize%5D=100\n",
      "Requesting: https://api.fiscaldata.treasury.gov/services/api/fiscal_service/v1/accounting/od/auctions_query?&page%5Bnumber%5D=57&page%5Bsize%5D=100\n"
     ]
    },
    {
     "name": "stdout",
     "output_type": "stream",
     "text": [
      "Requesting: https://api.fiscaldata.treasury.gov/services/api/fiscal_service/v1/accounting/od/auctions_query?&page%5Bnumber%5D=58&page%5Bsize%5D=100\n",
      "Requesting: https://api.fiscaldata.treasury.gov/services/api/fiscal_service/v1/accounting/od/auctions_query?&page%5Bnumber%5D=59&page%5Bsize%5D=100\n",
      "Requesting: https://api.fiscaldata.treasury.gov/services/api/fiscal_service/v1/accounting/od/auctions_query?&page%5Bnumber%5D=60&page%5Bsize%5D=100\n",
      "Requesting: https://api.fiscaldata.treasury.gov/services/api/fiscal_service/v1/accounting/od/auctions_query?&page%5Bnumber%5D=61&page%5Bsize%5D=100\n",
      "Requesting: https://api.fiscaldata.treasury.gov/services/api/fiscal_service/v1/accounting/od/auctions_query?&page%5Bnumber%5D=62&page%5Bsize%5D=100\n",
      "Requesting: https://api.fiscaldata.treasury.gov/services/api/fiscal_service/v1/accounting/od/auctions_query?&page%5Bnumber%5D=63&page%5Bsize%5D=100\n",
      "Requesting: https://api.fiscaldata.treasury.gov/services/api/fiscal_service/v1/accounting/od/auctions_query?&page%5Bnumber%5D=64&page%5Bsize%5D=100\n",
      "Requesting: https://api.fiscaldata.treasury.gov/services/api/fiscal_service/v1/accounting/od/auctions_query?&page%5Bnumber%5D=65&page%5Bsize%5D=100\n",
      "Requesting: https://api.fiscaldata.treasury.gov/services/api/fiscal_service/v1/accounting/od/auctions_query?&page%5Bnumber%5D=66&page%5Bsize%5D=100\n",
      "Requesting: https://api.fiscaldata.treasury.gov/services/api/fiscal_service/v1/accounting/od/auctions_query?&page%5Bnumber%5D=67&page%5Bsize%5D=100\n",
      "Requesting: https://api.fiscaldata.treasury.gov/services/api/fiscal_service/v1/accounting/od/auctions_query?&page%5Bnumber%5D=68&page%5Bsize%5D=100\n",
      "Requesting: https://api.fiscaldata.treasury.gov/services/api/fiscal_service/v1/accounting/od/auctions_query?&page%5Bnumber%5D=69&page%5Bsize%5D=100\n",
      "Requesting: https://api.fiscaldata.treasury.gov/services/api/fiscal_service/v1/accounting/od/auctions_query?&page%5Bnumber%5D=70&page%5Bsize%5D=100\n",
      "Requesting: https://api.fiscaldata.treasury.gov/services/api/fiscal_service/v1/accounting/od/auctions_query?&page%5Bnumber%5D=71&page%5Bsize%5D=100\n",
      "Requesting: https://api.fiscaldata.treasury.gov/services/api/fiscal_service/v1/accounting/od/auctions_query?&page%5Bnumber%5D=72&page%5Bsize%5D=100\n",
      "Requesting: https://api.fiscaldata.treasury.gov/services/api/fiscal_service/v1/accounting/od/auctions_query?&page%5Bnumber%5D=73&page%5Bsize%5D=100\n",
      "Requesting: https://api.fiscaldata.treasury.gov/services/api/fiscal_service/v1/accounting/od/auctions_query?&page%5Bnumber%5D=74&page%5Bsize%5D=100\n",
      "Requesting: https://api.fiscaldata.treasury.gov/services/api/fiscal_service/v1/accounting/od/auctions_query?&page%5Bnumber%5D=75&page%5Bsize%5D=100\n",
      "Requesting: https://api.fiscaldata.treasury.gov/services/api/fiscal_service/v1/accounting/od/auctions_query?&page%5Bnumber%5D=76&page%5Bsize%5D=100\n",
      "Requesting: https://api.fiscaldata.treasury.gov/services/api/fiscal_service/v1/accounting/od/auctions_query?&page%5Bnumber%5D=77&page%5Bsize%5D=100\n",
      "Requesting: https://api.fiscaldata.treasury.gov/services/api/fiscal_service/v1/accounting/od/auctions_query?&page%5Bnumber%5D=78&page%5Bsize%5D=100\n",
      "Requesting: https://api.fiscaldata.treasury.gov/services/api/fiscal_service/v1/accounting/od/auctions_query?&page%5Bnumber%5D=79&page%5Bsize%5D=100\n",
      "Requesting: https://api.fiscaldata.treasury.gov/services/api/fiscal_service/v1/accounting/od/auctions_query?&page%5Bnumber%5D=80&page%5Bsize%5D=100\n",
      "Requesting: https://api.fiscaldata.treasury.gov/services/api/fiscal_service/v1/accounting/od/auctions_query?&page%5Bnumber%5D=81&page%5Bsize%5D=100\n",
      "Requesting: https://api.fiscaldata.treasury.gov/services/api/fiscal_service/v1/accounting/od/auctions_query?&page%5Bnumber%5D=82&page%5Bsize%5D=100\n",
      "Requesting: https://api.fiscaldata.treasury.gov/services/api/fiscal_service/v1/accounting/od/auctions_query?&page%5Bnumber%5D=83&page%5Bsize%5D=100\n",
      "Requesting: https://api.fiscaldata.treasury.gov/services/api/fiscal_service/v1/accounting/od/auctions_query?&page%5Bnumber%5D=84&page%5Bsize%5D=100\n",
      "Requesting: https://api.fiscaldata.treasury.gov/services/api/fiscal_service/v1/accounting/od/auctions_query?&page%5Bnumber%5D=85&page%5Bsize%5D=100\n",
      "Requesting: https://api.fiscaldata.treasury.gov/services/api/fiscal_service/v1/accounting/od/auctions_query?&page%5Bnumber%5D=86&page%5Bsize%5D=100\n",
      "Requesting: https://api.fiscaldata.treasury.gov/services/api/fiscal_service/v1/accounting/od/auctions_query?&page%5Bnumber%5D=87&page%5Bsize%5D=100\n",
      "Requesting: https://api.fiscaldata.treasury.gov/services/api/fiscal_service/v1/accounting/od/auctions_query?&page%5Bnumber%5D=88&page%5Bsize%5D=100\n",
      "Requesting: https://api.fiscaldata.treasury.gov/services/api/fiscal_service/v1/accounting/od/auctions_query?&page%5Bnumber%5D=89&page%5Bsize%5D=100\n",
      "Requesting: https://api.fiscaldata.treasury.gov/services/api/fiscal_service/v1/accounting/od/auctions_query?&page%5Bnumber%5D=90&page%5Bsize%5D=100\n",
      "Requesting: https://api.fiscaldata.treasury.gov/services/api/fiscal_service/v1/accounting/od/auctions_query?&page%5Bnumber%5D=91&page%5Bsize%5D=100\n",
      "Requesting: https://api.fiscaldata.treasury.gov/services/api/fiscal_service/v1/accounting/od/auctions_query?&page%5Bnumber%5D=92&page%5Bsize%5D=100\n",
      "Requesting: https://api.fiscaldata.treasury.gov/services/api/fiscal_service/v1/accounting/od/auctions_query?&page%5Bnumber%5D=93&page%5Bsize%5D=100\n",
      "Requesting: https://api.fiscaldata.treasury.gov/services/api/fiscal_service/v1/accounting/od/auctions_query?&page%5Bnumber%5D=94&page%5Bsize%5D=100\n",
      "Requesting: https://api.fiscaldata.treasury.gov/services/api/fiscal_service/v1/accounting/od/auctions_query?&page%5Bnumber%5D=95&page%5Bsize%5D=100\n",
      "Requesting: https://api.fiscaldata.treasury.gov/services/api/fiscal_service/v1/accounting/od/auctions_query?&page%5Bnumber%5D=96&page%5Bsize%5D=100\n",
      "Requesting: https://api.fiscaldata.treasury.gov/services/api/fiscal_service/v1/accounting/od/auctions_query?&page%5Bnumber%5D=97&page%5Bsize%5D=100\n",
      "Requesting: https://api.fiscaldata.treasury.gov/services/api/fiscal_service/v1/accounting/od/auctions_query?&page%5Bnumber%5D=98&page%5Bsize%5D=100\n",
      "Requesting: https://api.fiscaldata.treasury.gov/services/api/fiscal_service/v1/accounting/od/auctions_query?&page%5Bnumber%5D=99&page%5Bsize%5D=100\n",
      "Requesting: https://api.fiscaldata.treasury.gov/services/api/fiscal_service/v1/accounting/od/auctions_query?&page%5Bnumber%5D=100&page%5Bsize%5D=100\n",
      "Requesting: https://api.fiscaldata.treasury.gov/services/api/fiscal_service/v1/accounting/od/auctions_query?&page%5Bnumber%5D=101&page%5Bsize%5D=100\n",
      "       cusip security_type security_term auction_date  issue_date  \\\n",
      "0  912827KC5          Note       10-Year   1979-10-31  1979-11-15   \n",
      "1  912810CK2          Bond       30-Year   1979-11-01  1979-11-15   \n",
      "2  9127933Y0          Bill       13-Week   1979-12-28  1980-01-03   \n",
      "3  9127934U7          Bill       26-Week   1979-12-28  1980-01-03   \n",
      "4  9127935W2          Bill       52-Week   1980-01-02  1980-01-08   \n",
      "\n",
      "  maturity_date price_per100  \n",
      "0    1989-11-15         null  \n",
      "1    2009-11-15         null  \n",
      "2    1980-04-03         null  \n",
      "3    1980-07-03         null  \n",
      "4    1981-01-02         null  \n"
     ]
    }
   ],
   "source": [
    "# full dataset\n",
    "download_dataset2(\"Treasury Bills Rates\", sample_p=False)"
   ]
  },
  {
   "cell_type": "markdown",
   "id": "481b4dd6",
   "metadata": {},
   "source": [
    "##### Yahoo Finance ETFs Dataset"
   ]
  },
  {
   "cell_type": "code",
   "execution_count": 8,
   "id": "ed856941",
   "metadata": {},
   "outputs": [],
   "source": [
    "#  Yahoo Finance ETFs\n",
    "from DrissionPage import ChromiumPage, ChromiumOptions\n",
    "import pandas as pd\n",
    "\n",
    "def download_dataset3(out_file3: str, sample_p=True):\n",
    "    # Initialize browser options \n",
    "    co = ChromiumOptions()\n",
    "    co.set_headless()\n",
    "    co.set_page_load_strategy(\"eager\")\n",
    "    # Create a browser session\n",
    "    page = ChromiumPage(co)\n",
    "    \n",
    "    # Headers for the DataFrame \n",
    "    data_list = [['Symbol', 'Name', 'Price', 'Change', '% change', 'Volume', '50 Days Average', '200 Day Average']]\n",
    "    \n",
    "    # Loop through pages \n",
    "    for idx in range(6): # in this case, the website has 6 pages in total \n",
    "        url = f\"https://finance.yahoo.com/etfs/?count=100&offset={idx * 100}\"\n",
    "        page.get(url)\n",
    "        # Select all table row elements \n",
    "        trs = page.eles(\"css:#scr-res-table table > tbody > tr\")\n",
    "        # Iterate over each table row\n",
    "        for tr in trs:\n",
    "            td_list = []\n",
    "            tds = tr.eles(\"css:td\")\n",
    "            # Extract text from each table\n",
    "            for td in tds:\n",
    "                td_list.append(td.text)\n",
    "            data_list.append(td_list)\n",
    "            # If only a sample of the data is needed \n",
    "            if sample_p and len(data_list) >= 5:\n",
    "                data_list = data_list[:5]\n",
    "                break\n",
    "    # Determining the filename based on sample_p\n",
    "    if sample_p:\n",
    "        filename = f\"{out_file3}_samples.csv\"\n",
    "    else:\n",
    "        filename = out_file3 + '.csv'\n",
    "    df = pd.DataFrame(data_list)\n",
    "    df.to_csv(filename, header=False, index=False, mode=\"w\", encoding=\"utf_8_sig\")\n",
    "    print(df.head())"
   ]
  },
  {
   "cell_type": "code",
   "execution_count": 9,
   "id": "a1c5c3db",
   "metadata": {},
   "outputs": [
    {
     "name": "stdout",
     "output_type": "stream",
     "text": [
      "        0                                                  1      2       3  \\\n",
      "0  Symbol                                               Name  Price  Change   \n",
      "1    FTCS                   First Trust Capital Strength ETF  81.55    0.00   \n",
      "2    FPEI  First Trust Institutional Preferred Securities...  17.97    0.00   \n",
      "3     YLD                    Principal Active High Yield ETF  18.75    0.00   \n",
      "4    JPST                    JPMorgan Ultra-Short Income ETF  50.34    0.00   \n",
      "\n",
      "          4        5                6                7     8  \n",
      "0  % change   Volume  50 Days Average  200 Day Average  None  \n",
      "1     0.00%  257,150            83.68            78.42        \n",
      "2     0.00%  237,379            18.11            17.43        \n",
      "3     0.00%   15,237            18.96            18.54        \n",
      "4     0.00%   3.832M            50.34            50.22        \n"
     ]
    }
   ],
   "source": [
    "# sample_dataset \n",
    "download_dataset3(\"Yahoo Finance ETFs\", sample_p=True)"
   ]
  },
  {
   "cell_type": "code",
   "execution_count": 6,
   "id": "53d70f85-f6c4-46a2-ae53-d70a81571c30",
   "metadata": {},
   "outputs": [
    {
     "name": "stdout",
     "output_type": "stream",
     "text": [
      "        0                                                  1       2       3  \\\n",
      "0  Symbol                                               Name   Price  Change   \n",
      "1    KARS  KraneShares Electric Vehicles and Future Mobil...   21.46   +0.35   \n",
      "2     ECH                             iShares MSCI Chile ETF   26.27   +0.38   \n",
      "3    CHIQ     Global X MSCI China Consumer Discretionary ETF   17.06   +0.24   \n",
      "4    KBWP      Invesco KBW Property & Casualty Insurance ETF  101.92   +1.30   \n",
      "\n",
      "          4        5                6                7     8  \n",
      "0  % change   Volume  50 Days Average  200 Day Average  None  \n",
      "1    +1.66%    7,459            22.15            25.76        \n",
      "2    +1.47%  148,914            26.13            26.90        \n",
      "3    +1.46%   56,880            16.93            17.82        \n",
      "4    +1.29%   66,443           102.97            91.41        \n"
     ]
    }
   ],
   "source": [
    "# full dataset\n",
    "download_dataset3(\"Yahoo Finance ETFs\", sample_p=False)"
   ]
  }
 ],
 "metadata": {
  "kernelspec": {
   "display_name": "Python 3 (ipykernel)",
   "language": "python",
   "name": "python3"
  },
  "language_info": {
   "codemirror_mode": {
    "name": "ipython",
    "version": 3
   },
   "file_extension": ".py",
   "mimetype": "text/x-python",
   "name": "python",
   "nbconvert_exporter": "python",
   "pygments_lexer": "ipython3",
   "version": "3.10.9"
  }
 },
 "nbformat": 4,
 "nbformat_minor": 5
}
